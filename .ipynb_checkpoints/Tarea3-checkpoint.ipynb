{
 "cells": [
  {
   "cell_type": "markdown",
   "id": "23def91c",
   "metadata": {},
   "source": [
    "# Pregunta 1\n",
    "Programen el método de pixel counting."
   ]
  },
  {
   "cell_type": "code",
   "execution_count": 62,
   "id": "da2303ff",
   "metadata": {},
   "outputs": [],
   "source": [
    "from random import randint\n",
    "from sympy.abc import x,y\n",
    "from sympy import integrate\n",
    "import math"
   ]
  },
  {
   "cell_type": "code",
   "execution_count": 73,
   "id": "83acc0d8",
   "metadata": {},
   "outputs": [],
   "source": [
    "def pixel_counting(c_min, c_max, c_cantidad):\n",
    "    lista = [complex(randint(c_min, c_max + 1), randint(c_min, c_max + 1)) for iteration in range(c_cantidad)]\n",
    "    diccionario_pixel = {}\n",
    "    mayores_a_2_dict = {}\n",
    "    mayores_a_2_pixel = {}\n",
    "    integrales = {}\n",
    "    for iteration in range(c_cantidad):\n",
    "        lista_i = []\n",
    "        pixel_a_2 = []\n",
    "        mayores_a_2 = 0\n",
    "        c = lista[iteration]\n",
    "        x_n = 0\n",
    "        for i in range(c_cantidad):\n",
    "            if not math.isnan(abs(x_n)):\n",
    "                lista_i.append(x_n)\n",
    "                print(x_n)\n",
    "            if 2 > c.real > -2:\n",
    "                mayores_a_2 += 1\n",
    "                pixel_a_2.append(c)\n",
    "            x_n = x_n*x_n + c\n",
    "        lista_i.pop()\n",
    "        diccionario_pixel[iteration] = lista_i\n",
    "        mayores_a_2_dict[iteration] = mayores_a_2\n",
    "        mayores_a_2_pixel[iteration] = pixel_a_2\n",
    "        maximo = max(lista_i, key=abs)\n",
    "        integrales[iteration] =  integrate(integrate(1, (y, 0, maximo)), (x, 0, maximo))\n",
    "        \n",
    "        \n",
    "    return diccionario_pixel, mayores_a_2_dict, mayores_a_2_pixel, integrales\n",
    "    \n",
    "    \n",
    "    "
   ]
  },
  {
   "cell_type": "markdown",
   "id": "4a153adf",
   "metadata": {},
   "source": [
    "# Pregunta 2\n",
    "Visualizen la convergencia de las aproximaciones A^k(D) para todos los\n",
    "valores k y verifiquen si el resultado que esta más cerca del valor esperado de: 1,506."
   ]
  },
  {
   "cell_type": "code",
   "execution_count": null,
   "id": "67fcc1c0",
   "metadata": {},
   "outputs": [],
   "source": []
  },
  {
   "cell_type": "code",
   "execution_count": null,
   "id": "4632ea49",
   "metadata": {},
   "outputs": [],
   "source": []
  }
 ],
 "metadata": {
  "kernelspec": {
   "display_name": "Python 3 (ipykernel)",
   "language": "python",
   "name": "python3"
  },
  "language_info": {
   "codemirror_mode": {
    "name": "ipython",
    "version": 3
   },
   "file_extension": ".py",
   "mimetype": "text/x-python",
   "name": "python",
   "nbconvert_exporter": "python",
   "pygments_lexer": "ipython3",
   "version": "3.10.4"
  }
 },
 "nbformat": 4,
 "nbformat_minor": 5
}
