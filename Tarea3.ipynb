{
 "cells": [
  {
   "cell_type": "markdown",
   "id": "23def91c",
   "metadata": {},
   "source": [
    "# Pregunta 1\n",
    "Programen el método de pixel counting."
   ]
  },
  {
   "cell_type": "code",
   "execution_count": 5,
   "id": "da2303ff",
   "metadata": {},
   "outputs": [],
   "source": [
    "from random import randint"
   ]
  },
  {
   "cell_type": "code",
   "execution_count": 58,
   "id": "83acc0d8",
   "metadata": {},
   "outputs": [],
   "source": [
    "def pixel_counting(c_min, c_max, c_cantidad):\n",
    "    lista = [complex(randint(c_min, c_max + 1), randint(c_min, c_max + 1)) for iteration in range(c_cantidad)]\n",
    "    diccionario_pixel = {}\n",
    "    mayores_a_2_dict = {}\n",
    "    for iteration in range(c_cantidad):\n",
    "        lista_i = []\n",
    "        mayores_a_2 = 0\n",
    "        c = lista[iteration]\n",
    "        x_n = 0\n",
    "        for i in range(c_cantidad):\n",
    "            lista_i.append(x_n)\n",
    "            x_n = x_n*x_n + c\n",
    "            if 2 + 0j > x_n:\n",
    "                mayores_a_2 += 1\n",
    "                \n",
    "        diccionario_pixel[iteration]= lista_i\n",
    "    \n",
    "    "
   ]
  },
  {
   "cell_type": "code",
   "execution_count": 59,
   "id": "11ef1f1a",
   "metadata": {},
   "outputs": [
    {
     "ename": "TypeError",
     "evalue": "'>' not supported between instances of 'complex' and 'complex'",
     "output_type": "error",
     "traceback": [
      "\u001b[1;31m---------------------------------------------------------------------------\u001b[0m",
      "\u001b[1;31mTypeError\u001b[0m                                 Traceback (most recent call last)",
      "Cell \u001b[1;32mIn [59], line 1\u001b[0m\n\u001b[1;32m----> 1\u001b[0m \u001b[43mpixel_counting\u001b[49m\u001b[43m(\u001b[49m\u001b[38;5;241;43m0\u001b[39;49m\u001b[43m,\u001b[49m\u001b[43m \u001b[49m\u001b[38;5;241;43m100\u001b[39;49m\u001b[43m,\u001b[49m\u001b[43m \u001b[49m\u001b[38;5;241;43m20\u001b[39;49m\u001b[43m)\u001b[49m\n",
      "Cell \u001b[1;32mIn [58], line 13\u001b[0m, in \u001b[0;36mpixel_counting\u001b[1;34m(c_min, c_max, c_cantidad)\u001b[0m\n\u001b[0;32m     11\u001b[0m     lista_i\u001b[38;5;241m.\u001b[39mappend(x_n)\n\u001b[0;32m     12\u001b[0m     x_n \u001b[38;5;241m=\u001b[39m x_n\u001b[38;5;241m*\u001b[39mx_n \u001b[38;5;241m+\u001b[39m c\n\u001b[1;32m---> 13\u001b[0m     \u001b[38;5;28;01mif\u001b[39;00m \u001b[38;5;241;43m2\u001b[39;49m\u001b[43m \u001b[49m\u001b[38;5;241;43m+\u001b[39;49m\u001b[43m \u001b[49m\u001b[38;5;241;43m0\u001b[39;49m\u001b[43mj\u001b[49m\u001b[43m \u001b[49m\u001b[38;5;241;43m>\u001b[39;49m\u001b[43m \u001b[49m\u001b[43mx_n\u001b[49m:\n\u001b[0;32m     14\u001b[0m         mayores_a_2 \u001b[38;5;241m+\u001b[39m\u001b[38;5;241m=\u001b[39m \u001b[38;5;241m1\u001b[39m\n\u001b[0;32m     16\u001b[0m diccionario_pixel[iteration]\u001b[38;5;241m=\u001b[39m lista_i\n",
      "\u001b[1;31mTypeError\u001b[0m: '>' not supported between instances of 'complex' and 'complex'"
     ]
    }
   ],
   "source": [
    "pixel_counting(0, 100, 20)\n"
   ]
  },
  {
   "cell_type": "code",
   "execution_count": null,
   "id": "67fcc1c0",
   "metadata": {},
   "outputs": [],
   "source": []
  }
 ],
 "metadata": {
  "kernelspec": {
   "display_name": "Python 3 (ipykernel)",
   "language": "python",
   "name": "python3"
  },
  "language_info": {
   "codemirror_mode": {
    "name": "ipython",
    "version": 3
   },
   "file_extension": ".py",
   "mimetype": "text/x-python",
   "name": "python",
   "nbconvert_exporter": "python",
   "pygments_lexer": "ipython3",
   "version": "3.10.4"
  }
 },
 "nbformat": 4,
 "nbformat_minor": 5
}
